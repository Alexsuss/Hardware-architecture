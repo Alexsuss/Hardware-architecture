{
 "cells": [
  {
   "cell_type": "markdown",
   "id": "a7ce22f9-923d-4e4b-843f-5582cbbf82c7",
   "metadata": {},
   "source": [
    "# Практическое занятие №1\n",
    "Выполнение перевода чисел из одной системы счисления в другую. Выполнение арифметических операций в двоичной системе счисления.\n",
    "\n",
    "**Цель практической работы:** Изучить основные принципы перевода чисел из одной системы счисления в другую и освоить выполнение основных арифметических операций в двоично системе счисления.\n",
    "\n",
    "**Ход работы:**\n",
    "1. Ознакомиться с заданиями\n",
    "2. Ознакомиться с конспектом или другими теоретическими материалами\n",
    "4. Решить задания \n",
    "5. Заполнить отчет\n",
    "\n",
    "**Основные требования:**\n",
    "1. Сокращать до 4 знаков после запятой при необходимости\n",
    "\n",
    "\n",
    "**Работу выполнил:**"
   ]
  },
  {
   "cell_type": "markdown",
   "id": "d5fcfde6-f8ce-44c9-94a1-0dc5472a0195",
   "metadata": {},
   "source": [
    "ФИО студента"
   ]
  },
  {
   "cell_type": "markdown",
   "id": "8459eb1e-6a18-4ba2-b2e2-d27f4a1826b2",
   "metadata": {},
   "source": [
    "# Задание 1 - Перевод чисел из одной системы счисления в другую"
   ]
  },
  {
   "cell_type": "markdown",
   "id": "2113c032-2d48-4e99-a01c-81da77f2a394",
   "metadata": {},
   "source": [
    "№1 $$101101_{2}\\rightarrow x_{10}$$"
   ]
  },
  {
   "cell_type": "markdown",
   "id": "a6435d1e",
   "metadata": {},
   "source": []
  },
  {
   "cell_type": "markdown",
   "id": "1d54d78c-ba89-4939-8047-47033ad077f0",
   "metadata": {},
   "source": [
    "№2 $$101110_{2}\\rightarrow x_{8}$$"
   ]
  },
  {
   "cell_type": "code",
   "execution_count": null,
   "id": "d9d9c4bf-f39d-4500-80c8-d09b6d86550d",
   "metadata": {},
   "outputs": [],
   "source": []
  },
  {
   "cell_type": "markdown",
   "id": "afee2a4d-dbd9-4848-80dd-9992aee67f5d",
   "metadata": {},
   "source": [
    "№3 $$110011_2\\rightarrow x_{16}$$"
   ]
  },
  {
   "cell_type": "code",
   "execution_count": null,
   "id": "72ec536e-1e42-4867-a8a6-5b0b2221b48b",
   "metadata": {},
   "outputs": [],
   "source": []
  },
  {
   "cell_type": "markdown",
   "id": "76cf5d0d-34cf-4b61-9f6b-1136f78a4b18",
   "metadata": {},
   "source": [
    "№4 $$75_{8}\\rightarrow x_{2}$$"
   ]
  },
  {
   "cell_type": "code",
   "execution_count": null,
   "id": "00d8d2be-c8c8-4cbf-b89e-e3a1901aa5ff",
   "metadata": {},
   "outputs": [],
   "source": []
  },
  {
   "cell_type": "markdown",
   "id": "2e7ddfd8-5725-4e13-8167-3a5c56bab90c",
   "metadata": {},
   "source": [
    "№5 $$63_{8}\\rightarrow x_{10}$$"
   ]
  },
  {
   "cell_type": "code",
   "execution_count": null,
   "id": "386caf1c-5f9b-4359-869d-cbc32046f71e",
   "metadata": {},
   "outputs": [],
   "source": []
  },
  {
   "cell_type": "markdown",
   "id": "cfc7a76d-a000-40cd-9864-563d6f99c09e",
   "metadata": {},
   "source": [
    "№6 $$17_{8}\\rightarrow x_{16}$$"
   ]
  },
  {
   "cell_type": "code",
   "execution_count": null,
   "id": "322293a8-c2ca-4d9c-beff-86af324eb562",
   "metadata": {},
   "outputs": [],
   "source": []
  },
  {
   "cell_type": "markdown",
   "id": "6a4fb2b3-e65c-4fb3-9e01-52d9c5c555ea",
   "metadata": {},
   "source": [
    "№7 $$25_{10}\\rightarrow x_{10}$$"
   ]
  },
  {
   "cell_type": "code",
   "execution_count": null,
   "id": "edc0b0c0-25dd-45d6-9c33-9c7aefe2fdb4",
   "metadata": {},
   "outputs": [],
   "source": []
  },
  {
   "cell_type": "markdown",
   "id": "d726e435-e248-4e2d-8e2e-8b620ea2f3b9",
   "metadata": {},
   "source": [
    "№8 $$183_{10}\\rightarrow x_{16}$$"
   ]
  },
  {
   "cell_type": "code",
   "execution_count": null,
   "id": "2b001d4d-f046-4cab-a7f1-4dd9bd330097",
   "metadata": {},
   "outputs": [],
   "source": []
  },
  {
   "cell_type": "markdown",
   "id": "2d8efd90-c33b-418d-bc43-b74cf52b63e1",
   "metadata": {},
   "source": [
    "№9 $$64_{10}\\rightarrow x_{8}$$"
   ]
  },
  {
   "cell_type": "code",
   "execution_count": null,
   "id": "c450df3e-39fd-4f1a-91c6-a6812fb916f8",
   "metadata": {},
   "outputs": [],
   "source": []
  },
  {
   "cell_type": "markdown",
   "id": "0b2f89d5-0c6f-4759-af33-d9ed8db07c72",
   "metadata": {},
   "source": [
    "№10 $$1F_{16}\\rightarrow x_{2}$$"
   ]
  },
  {
   "cell_type": "code",
   "execution_count": null,
   "id": "108b2cb3-6027-4371-af57-580c443e1d78",
   "metadata": {},
   "outputs": [],
   "source": []
  },
  {
   "cell_type": "markdown",
   "id": "81d469ff-ef5c-4886-adc4-5712f3e63c59",
   "metadata": {},
   "source": [
    "№11 $$53_{16} \\rightarrow x_{8}$$"
   ]
  },
  {
   "cell_type": "code",
   "execution_count": null,
   "id": "be9e1daa-862d-4453-a795-a35eab56b17e",
   "metadata": {},
   "outputs": [],
   "source": []
  },
  {
   "cell_type": "markdown",
   "id": "6ce6d0e5-4a26-414c-8924-f86f1ede9893",
   "metadata": {},
   "source": [
    "№12 $$A4_{16}\\rightarrow x_{10}$$"
   ]
  },
  {
   "cell_type": "code",
   "execution_count": null,
   "id": "bd4ac497-9c55-4e48-8916-4cba7945856b",
   "metadata": {},
   "outputs": [],
   "source": []
  },
  {
   "cell_type": "markdown",
   "id": "660959b3-1921-46d6-b767-611df8678bcb",
   "metadata": {},
   "source": [
    "## Задание 2 - Выполнение арифметических действий в различных системах счисления"
   ]
  },
  {
   "cell_type": "markdown",
   "id": "213927ff-4c8d-403b-b07e-3638a17656b6",
   "metadata": {},
   "source": [
    "№13 $$1101_{2} * 1010_{2} = x_{2}$$"
   ]
  },
  {
   "cell_type": "code",
   "execution_count": null,
   "id": "becdddcc-d8b3-4118-861c-d8997371fc0c",
   "metadata": {},
   "outputs": [],
   "source": []
  },
  {
   "cell_type": "markdown",
   "id": "8def0118-4592-47d5-a7d3-e1636dc0f3ad",
   "metadata": {},
   "source": [
    "№14 $$1110_{16} - 1011_{16} = x_{2}$$"
   ]
  },
  {
   "cell_type": "code",
   "execution_count": null,
   "id": "8e2c62e9-7465-4337-b172-ef389c23a89a",
   "metadata": {},
   "outputs": [],
   "source": []
  },
  {
   "cell_type": "markdown",
   "id": "a15637b6-a9cd-4ff7-a3a7-18b834acd296",
   "metadata": {},
   "source": [
    "№15 $$1010_2 * 10_2 = x_2$$"
   ]
  },
  {
   "cell_type": "code",
   "execution_count": null,
   "id": "77e23396-afd4-4208-87fd-06b4df3841c2",
   "metadata": {},
   "outputs": [],
   "source": []
  },
  {
   "cell_type": "markdown",
   "id": "de58424e-1f62-4069-9e05-3d3b93947500",
   "metadata": {},
   "source": [
    "№16 $$1010_{2} : 10_{2} = x_{2}$$"
   ]
  },
  {
   "cell_type": "code",
   "execution_count": null,
   "id": "9cc7f9d4-4b0b-4d61-87a4-ee0c7c2562ca",
   "metadata": {},
   "outputs": [],
   "source": []
  },
  {
   "cell_type": "markdown",
   "id": "afe6ffc5-e815-4038-92da-44ed46d078b9",
   "metadata": {},
   "source": [
    "№17 $$65_{8} + 15_{8} = x_{8}$$"
   ]
  },
  {
   "cell_type": "code",
   "execution_count": null,
   "id": "12d78f0e-bf86-45a9-93e5-66cf58b782e1",
   "metadata": {},
   "outputs": [],
   "source": []
  },
  {
   "cell_type": "markdown",
   "id": "24d5d0bb-1afb-4bec-8979-009ca7fd2767",
   "metadata": {},
   "source": [
    "№18 $$30_8 - 42_{8} = x_{8}$$"
   ]
  },
  {
   "cell_type": "code",
   "execution_count": null,
   "id": "1d8ae9b2-7494-4979-ba22-fb9022ae52ff",
   "metadata": {},
   "outputs": [],
   "source": []
  },
  {
   "cell_type": "markdown",
   "id": "9c0e64d2-4d10-4545-80dc-d8aa9dce6451",
   "metadata": {},
   "source": [
    "№19 $$15_8 * 7_{8} = x_8$$"
   ]
  },
  {
   "cell_type": "code",
   "execution_count": null,
   "id": "b4547895-8b89-4c70-89fb-02a82f914a89",
   "metadata": {},
   "outputs": [],
   "source": []
  },
  {
   "cell_type": "markdown",
   "id": "8ac55fb7-cc08-4c16-afdd-2fe9c4854109",
   "metadata": {},
   "source": [
    "№20 $$26_{8} : 2_{8} = x_8$$"
   ]
  },
  {
   "cell_type": "code",
   "execution_count": null,
   "id": "768e4b4d-c230-4481-a010-a7d48e527751",
   "metadata": {},
   "outputs": [],
   "source": []
  },
  {
   "cell_type": "markdown",
   "id": "0244ce64-a162-4608-b2a4-0ad6a9ac553d",
   "metadata": {},
   "source": [
    "№21 $$5F_{16} + D_{16} = x_{16}$$"
   ]
  },
  {
   "cell_type": "code",
   "execution_count": null,
   "id": "8177b511-e715-4bc2-8925-a81718e7ba62",
   "metadata": {},
   "outputs": [],
   "source": []
  },
  {
   "cell_type": "markdown",
   "id": "60d96a5a-0793-4e39-a1ca-66da5d1d1df4",
   "metadata": {},
   "source": [
    "№22 $$80_{16} - 34_{16} = x_{16}$$"
   ]
  },
  {
   "cell_type": "code",
   "execution_count": null,
   "id": "0e8a745f-d9cc-4d83-9869-41eff5ed6549",
   "metadata": {},
   "outputs": [],
   "source": []
  },
  {
   "cell_type": "markdown",
   "id": "cd6771cb-52c4-49bf-9c31-590e52889eac",
   "metadata": {},
   "source": [
    "№23 $$50_{16} * DA_{16} = x_{16}$$"
   ]
  },
  {
   "cell_type": "code",
   "execution_count": null,
   "id": "e84f1c4b-7caa-46d9-af09-6b702a52a038",
   "metadata": {},
   "outputs": [],
   "source": []
  },
  {
   "cell_type": "markdown",
   "id": "e48f6f6f-6d51-4520-b7a6-9ea28c11e087",
   "metadata": {},
   "source": [
    "№24 $$FA_{16} : 5_{16} = x_{16}$$"
   ]
  },
  {
   "cell_type": "code",
   "execution_count": null,
   "id": "70cef782-4602-4113-89e3-22dac9026c9f",
   "metadata": {},
   "outputs": [],
   "source": []
  },
  {
   "cell_type": "markdown",
   "id": "96cd2fb2-9a56-4124-98d6-72cc5799233d",
   "metadata": {},
   "source": [
    "№25 $$1011_{2} + 12_{8} = x_{10}$$"
   ]
  },
  {
   "cell_type": "code",
   "execution_count": null,
   "id": "e81fd6a2-3066-4d15-afad-3814abe9c140",
   "metadata": {},
   "outputs": [],
   "source": []
  },
  {
   "cell_type": "markdown",
   "id": "2eb0e91d-90cc-4047-9ed8-b8ec1077cbae",
   "metadata": {},
   "source": [
    "№26 $$A7_{17} - 40_{6} = x_{16}$$"
   ]
  },
  {
   "cell_type": "code",
   "execution_count": null,
   "id": "252b68be-665b-48e0-a400-f31efe4d0eee",
   "metadata": {},
   "outputs": [],
   "source": []
  },
  {
   "cell_type": "markdown",
   "id": "f4841286-4bdf-42d5-8bdb-5bee1fe7337e",
   "metadata": {},
   "source": [
    "№27 $$74_{8} * 16_{10} = x_{16}$$"
   ]
  },
  {
   "cell_type": "code",
   "execution_count": null,
   "id": "124b5c63-18c4-448b-8381-cc93ece47a5e",
   "metadata": {},
   "outputs": [],
   "source": []
  },
  {
   "cell_type": "markdown",
   "id": "2b7b57c1-8e34-4433-84a3-efee301dad9c",
   "metadata": {},
   "source": [
    "№28 $$1111101_{2} : 5_{16} = x_{10}$$"
   ]
  },
  {
   "cell_type": "code",
   "execution_count": null,
   "id": "d31f7bd3-58c7-4b1a-9c70-89603b8b4ceb",
   "metadata": {},
   "outputs": [],
   "source": []
  },
  {
   "cell_type": "markdown",
   "id": "8dc6a26c-a7be-4d36-826b-272462d04992",
   "metadata": {},
   "source": [
    "№29 $$175_{13} * 35_{32} = x_{2}$$"
   ]
  },
  {
   "cell_type": "code",
   "execution_count": null,
   "id": "b6b48a4b-4396-4d57-9d28-8aac3250727c",
   "metadata": {},
   "outputs": [],
   "source": []
  },
  {
   "cell_type": "markdown",
   "id": "b7ceff38-279c-4abf-9b54-20a54f2e9d02",
   "metadata": {},
   "source": [
    "№30 $$1765_{33} + 12_{6} = x_{17}$$"
   ]
  },
  {
   "cell_type": "code",
   "execution_count": null,
   "id": "e64c4b5b-c2f2-49ed-98d5-3d2bbfeccdcd",
   "metadata": {},
   "outputs": [],
   "source": []
  },
  {
   "cell_type": "markdown",
   "id": "ec443828-abad-49e9-909c-a4cd1fb562c9",
   "metadata": {},
   "source": [
    "## Вывод"
   ]
  },
  {
   "cell_type": "markdown",
   "id": "10aaef74-7ef5-4bf9-a0bf-21cbf3dd7862",
   "metadata": {},
   "source": []
  }
 ],
 "metadata": {
  "kernelspec": {
   "display_name": "Python 3 (ipykernel)",
   "language": "python",
   "name": "python3"
  },
  "language_info": {
   "codemirror_mode": {
    "name": "ipython",
    "version": 3
   },
   "file_extension": ".py",
   "mimetype": "text/x-python",
   "name": "python",
   "nbconvert_exporter": "python",
   "pygments_lexer": "ipython3",
   "version": "3.11.2"
  }
 },
 "nbformat": 4,
 "nbformat_minor": 5
}
